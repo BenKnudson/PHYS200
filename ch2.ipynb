{
 "metadata": {
  "name": "ch2"
 },
 "nbformat": 3,
 "worksheets": [
  {
   "cells": [
    {
     "cell_type": "heading",
     "level": 1,
     "source": [
      "ch2 of ThinkPython, Variables, expressions and statements"
     ]
    },
    {
     "cell_type": "code",
     "collapsed": false,
     "input": [
      "type(4)"
     ],
     "language": "python",
     "outputs": [
      {
       "output_type": "pyout",
       "prompt_number": 1,
       "text": [
        "int"
       ]
      }
     ],
     "prompt_number": 1
    },
    {
     "cell_type": "code",
     "collapsed": false,
     "input": [
      "type('hello')"
     ],
     "language": "python",
     "outputs": [
      {
       "output_type": "pyout",
       "prompt_number": 3,
       "text": [
        "str"
       ]
      }
     ],
     "prompt_number": 3
    },
    {
     "cell_type": "code",
     "collapsed": false,
     "input": [
      "print 1,123,000,5"
     ],
     "language": "python",
     "outputs": [
      {
       "output_type": "stream",
       "stream": "stdout",
       "text": [
        "1 123 0 5"
       ]
      }
     ],
     "prompt_number": 4
    },
    {
     "cell_type": "code",
     "collapsed": false,
     "input": [
      "print 'hello'"
     ],
     "language": "python",
     "outputs": [
      {
       "output_type": "stream",
       "stream": "stdout",
       "text": [
        "hello"
       ]
      }
     ],
     "prompt_number": 5
    },
    {
     "cell_type": "code",
     "collapsed": true,
     "input": [
      "message= 'and now for something completely different'"
     ],
     "language": "python",
     "outputs": [],
     "prompt_number": 6
    },
    {
     "cell_type": "code",
     "collapsed": true,
     "input": [
      "n=4",
      "pi=3.14159"
     ],
     "language": "python",
     "outputs": [],
     "prompt_number": 7
    },
    {
     "cell_type": "code",
     "collapsed": false,
     "input": [
      "print message"
     ],
     "language": "python",
     "outputs": [
      {
       "output_type": "stream",
       "stream": "stdout",
       "text": [
        "and now for something completely different"
       ]
      }
     ],
     "prompt_number": 8
    },
    {
     "cell_type": "code",
     "collapsed": false,
     "input": [
      "print n",
      "print pi"
     ],
     "language": "python",
     "outputs": [
      {
       "output_type": "stream",
       "stream": "stdout",
       "text": [
        "4",
        "3.14159"
       ]
      }
     ],
     "prompt_number": 9
    },
    {
     "cell_type": "code",
     "collapsed": false,
     "input": [
      "type(message)"
     ],
     "language": "python",
     "outputs": [
      {
       "output_type": "pyout",
       "prompt_number": 11,
       "text": [
        "str"
       ]
      }
     ],
     "prompt_number": 11
    },
    {
     "cell_type": "code",
     "collapsed": false,
     "input": [
      "zipcode=02492"
     ],
     "language": "python",
     "outputs": [
      {
       "ename": "SyntaxError",
       "evalue": "invalid token (<ipython-input-12-7982e2438ce2>, line 1)",
       "output_type": "pyerr",
       "traceback": [
        "\u001b[1;36m  File \u001b[1;32m\"<ipython-input-12-7982e2438ce2>\"\u001b[1;36m, line \u001b[1;32m1\u001b[0m\n\u001b[1;33m    zipcode=02492\u001b[0m\n\u001b[1;37m                ^\u001b[0m\n\u001b[1;31mSyntaxError\u001b[0m\u001b[1;31m:\u001b[0m invalid token\n"
       ]
      }
     ],
     "prompt_number": 12
    },
    {
     "cell_type": "code",
     "collapsed": false,
     "input": [
      "print zipcode"
     ],
     "language": "python",
     "outputs": [
      {
       "ename": "NameError",
       "evalue": "name 'zipcode' is not defined",
       "output_type": "pyerr",
       "traceback": [
        "\u001b[1;31m---------------------------------------------------------------------------\u001b[0m\n\u001b[1;31mNameError\u001b[0m                                 Traceback (most recent call last)",
        "\u001b[1;32mc:\\Documents and Settings\\Ben Knudson\\PHYS200\\<ipython-input-13-03da6f92a169>\u001b[0m in \u001b[0;36m<module>\u001b[1;34m()\u001b[0m\n\u001b[1;32m----> 1\u001b[1;33m \u001b[1;32mprint\u001b[0m \u001b[0mzipcode\u001b[0m\u001b[1;33m\u001b[0m\u001b[0m\n\u001b[0m",
        "\u001b[1;31mNameError\u001b[0m: name 'zipcode' is not defined"
       ]
      }
     ],
     "prompt_number": 13
    },
    {
     "cell_type": "code",
     "collapsed": false,
     "input": [
      "print 01,010,0100,01000"
     ],
     "language": "python",
     "outputs": [
      {
       "output_type": "stream",
       "stream": "stdout",
       "text": [
        "1 8 64 512"
       ]
      }
     ],
     "prompt_number": 14
    },
    {
     "cell_type": "code",
     "collapsed": false,
     "input": [
      "'2'-'1'"
     ],
     "language": "python",
     "outputs": [
      {
       "ename": "TypeError",
       "evalue": "unsupported operand type(s) for -: 'str' and 'str'",
       "output_type": "pyerr",
       "traceback": [
        "\u001b[1;31m---------------------------------------------------------------------------\u001b[0m\n\u001b[1;31mTypeError\u001b[0m                                 Traceback (most recent call last)",
        "\u001b[1;32mc:\\Documents and Settings\\Ben Knudson\\PHYS200\\<ipython-input-15-c01bed84b0cf>\u001b[0m in \u001b[0;36m<module>\u001b[1;34m()\u001b[0m\n\u001b[1;32m----> 1\u001b[1;33m \u001b[1;34m'2'\u001b[0m\u001b[1;33m-\u001b[0m\u001b[1;34m'1'\u001b[0m\u001b[1;33m\u001b[0m\u001b[0m\n\u001b[0m",
        "\u001b[1;31mTypeError\u001b[0m: unsupported operand type(s) for -: 'str' and 'str'"
       ]
      }
     ],
     "prompt_number": 15
    },
    {
     "cell_type": "code",
     "collapsed": false,
     "input": [
      "first = 'throat' ",
      "second= 'warbler'",
      "print first + second"
     ],
     "language": "python",
     "outputs": [
      {
       "output_type": "stream",
       "stream": "stdout",
       "text": [
        "throatwarbler"
       ]
      }
     ],
     "prompt_number": 16
    },
    {
     "cell_type": "code",
     "collapsed": false,
     "input": [
      "print first*3"
     ],
     "language": "python",
     "outputs": [
      {
       "output_type": "stream",
       "stream": "stdout",
       "text": [
        "throatthroatthroat"
       ]
      }
     ],
     "prompt_number": 17
    },
    {
     "cell_type": "plaintext",
     "source": [
      "2.3",
      "width=17",
      "height =12.0",
      "delimiter= '.'",
      "1. width/2  would give 8. it would be an int.",
      "2. width/2.0  would give 8.5 it would be a float",
      "3. height/3 would give 4. it would be a float",
      "4. 1+2*5 would give 11. an int",
      "5. delimiter * 5 would give '.....' it would be a string"
     ]
    },
    {
     "cell_type": "plaintext",
     "source": [
      "2.4",
      "1. volume of a sphere with radius 5, 4*pi*r**3/3"
     ]
    },
    {
     "cell_type": "code",
     "collapsed": false,
     "input": [
      "4*pi*5**3/3"
     ],
     "language": "python",
     "outputs": [
      {
       "output_type": "pyout",
       "prompt_number": 18,
       "text": [
        "523.5983333333332"
       ]
      }
     ],
     "prompt_number": 18
    },
    {
     "cell_type": "plaintext",
     "source": [
      "2. books are 24.95 with a 40% discount. shipping is 3 for the first and .75 for the additional. what is the cost of 60 books?"
     ]
    },
    {
     "cell_type": "code",
     "collapsed": false,
     "input": [
      "60*(24.95*.6)+59*.75+3"
     ],
     "language": "python",
     "outputs": [
      {
       "output_type": "pyout",
       "prompt_number": 19,
       "text": [
        "945.4499999999999"
       ]
      }
     ],
     "prompt_number": 19
    },
    {
     "cell_type": "plaintext",
     "source": [
      "3.if i leave my house at 6:52 am and run 1 mile at 8:15 per mile. 3 miles at 7:12 per mile, and 1 more mile at 8:15, when do i get home?"
     ]
    },
    {
     "cell_type": "code",
     "collapsed": false,
     "input": [
      "t=2*8.25+3*7.20",
      "(52+t)%60"
     ],
     "language": "python",
     "outputs": [
      {
       "output_type": "pyout",
       "prompt_number": 22,
       "text": [
        "30.099999999999994"
       ]
      }
     ],
     "prompt_number": 22
    },
    {
     "cell_type": "plaintext",
     "source": [
      "get home at 7:30 ish for breakfast"
     ]
    },
    {
     "cell_type": "plaintext",
     "source": []
    }
   ]
  }
 ]
}