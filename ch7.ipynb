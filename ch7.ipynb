{
 "metadata": {
  "name": "ch7"
 },
 "nbformat": 3,
 "worksheets": [
  {
   "cells": [
    {
     "cell_type": "heading",
     "level": 1,
     "source": [
      "Thinkpython ch7 exercises"
     ]
    },
    {
     "cell_type": "plaintext",
     "source": [
      "exercise 7.1. redefine the print_n function using iteration"
     ]
    },
    {
     "cell_type": "code",
     "collapsed": true,
     "input": [
      "def print_n(word,n):",
      "    while n>0:",
      "        print word",
      "        n=n-1",
      "    return"
     ],
     "language": "python",
     "outputs": [],
     "prompt_number": 1
    },
    {
     "cell_type": "code",
     "collapsed": false,
     "input": [
      "print_n('hello',3)"
     ],
     "language": "python",
     "outputs": [
      {
       "output_type": "stream",
       "stream": "stdout",
       "text": [
        "hello",
        "hello",
        "hello"
       ]
      }
     ],
     "prompt_number": 2
    },
    {
     "cell_type": "code",
     "collapsed": true,
     "input": [],
     "language": "python",
     "outputs": []
    }
   ]
  }
 ]
}