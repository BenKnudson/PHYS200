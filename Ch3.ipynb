{
 "metadata": {
  "name": "Ch3"
 },
 "nbformat": 3,
 "worksheets": [
  {
   "cells": [
    {
     "cell_type": "heading",
     "level": 1,
     "source": [
      "ThinkPython chapter 3 exercises"
     ]
    },
    {
     "cell_type": "plaintext",
     "source": [
      "converting types"
     ]
    },
    {
     "cell_type": "code",
     "collapsed": false,
     "input": [
      "int(2.3)"
     ],
     "language": "python",
     "outputs": [
      {
       "output_type": "pyout",
       "prompt_number": 7,
       "text": [
        "2"
       ]
      },
      {
       "output_type": "pyout",
       "prompt_number": 7,
       "text": [
        "2"
       ]
      }
     ],
     "prompt_number": 7
    },
    {
     "cell_type": "code",
     "collapsed": false,
     "input": [
      "float(2)"
     ],
     "language": "python",
     "outputs": [
      {
       "output_type": "pyout",
       "prompt_number": 8,
       "text": [
        "2.0"
       ]
      },
      {
       "output_type": "pyout",
       "prompt_number": 8,
       "text": [
        "2.0"
       ]
      }
     ],
     "prompt_number": 8
    },
    {
     "cell_type": "code",
     "collapsed": false,
     "input": [
      "str(1)"
     ],
     "language": "python",
     "outputs": [
      {
       "output_type": "pyout",
       "prompt_number": 9,
       "text": [
        "'1'"
       ]
      },
      {
       "output_type": "pyout",
       "prompt_number": 9,
       "text": [
        "'1'"
       ]
      }
     ],
     "prompt_number": 9
    },
    {
     "cell_type": "code",
     "collapsed": false,
     "input": [
      "a=str(1)",
      "float(a)"
     ],
     "language": "python",
     "outputs": [
      {
       "output_type": "pyout",
       "prompt_number": 10,
       "text": [
        "1.0"
       ]
      },
      {
       "output_type": "pyout",
       "prompt_number": 10,
       "text": [
        "1.0"
       ]
      }
     ],
     "prompt_number": 10
    },
    {
     "cell_type": "plaintext",
     "source": [
      "inport a math module so we can do math stuff"
     ]
    },
    {
     "cell_type": "code",
     "collapsed": true,
     "input": [
      "import math"
     ],
     "language": "python",
     "outputs": [],
     "prompt_number": 11
    },
    {
     "cell_type": "code",
     "collapsed": false,
     "input": [
      "print math"
     ],
     "language": "python",
     "outputs": [
      {
       "output_type": "stream",
       "stream": "stdout",
       "text": [
        "<module 'math' (built-in)>"
       ]
      },
      {
       "output_type": "stream",
       "stream": "stdout",
       "text": [
        "<module 'math' (built-in)>"
       ]
      }
     ],
     "prompt_number": 12
    },
    {
     "cell_type": "code",
     "collapsed": false,
     "input": [
      "math.log10(1000)"
     ],
     "language": "python",
     "outputs": [
      {
       "output_type": "pyout",
       "prompt_number": 13,
       "text": [
        "3.0"
       ]
      },
      {
       "output_type": "pyout",
       "prompt_number": 13,
       "text": [
        "3.0"
       ]
      }
     ],
     "prompt_number": 13
    },
    {
     "cell_type": "code",
     "collapsed": false,
     "input": [
      "math.log(100)"
     ],
     "language": "python",
     "outputs": [
      {
       "output_type": "pyout",
       "prompt_number": 14,
       "text": [
        "4.605170185988092"
       ]
      },
      {
       "output_type": "pyout",
       "prompt_number": 14,
       "text": [
        "4.605170185988092"
       ]
      }
     ],
     "prompt_number": 14
    },
    {
     "cell_type": "code",
     "collapsed": false,
     "input": [
      "degrees=45.0",
      "radians=degrees/180*math.pi",
      "math.sin(radians)"
     ],
     "language": "python",
     "outputs": [
      {
       "output_type": "pyout",
       "prompt_number": 17,
       "text": [
        "0.7071067811865475"
       ]
      },
      {
       "output_type": "pyout",
       "prompt_number": 17,
       "text": [
        "0.7071067811865475"
       ]
      }
     ],
     "prompt_number": 17
    },
    {
     "cell_type": "code",
     "collapsed": false,
     "input": [
      "math.pi"
     ],
     "language": "python",
     "outputs": [
      {
       "output_type": "pyout",
       "prompt_number": 18,
       "text": [
        "3.141592653589793"
       ]
      },
      {
       "output_type": "pyout",
       "prompt_number": 18,
       "text": [
        "3.141592653589793"
       ]
      }
     ],
     "prompt_number": 18
    },
    {
     "cell_type": "code",
     "collapsed": false,
     "input": [
      "math.cos(radians)"
     ],
     "language": "python",
     "outputs": [
      {
       "output_type": "pyout",
       "prompt_number": 19,
       "text": [
        "0.7071067811865476"
       ]
      },
      {
       "output_type": "pyout",
       "prompt_number": 19,
       "text": [
        "0.7071067811865476"
       ]
      }
     ],
     "prompt_number": 19
    },
    {
     "cell_type": "code",
     "collapsed": false,
     "input": [
      "math.sqrt(2.0)"
     ],
     "language": "python",
     "outputs": [
      {
       "output_type": "pyout",
       "prompt_number": 20,
       "text": [
        "1.4142135623730951"
       ]
      },
      {
       "output_type": "pyout",
       "prompt_number": 20,
       "text": [
        "1.4142135623730951"
       ]
      }
     ],
     "prompt_number": 20
    },
    {
     "cell_type": "code",
     "collapsed": false,
     "input": [
      "math.sqrt(2)"
     ],
     "language": "python",
     "outputs": [
      {
       "output_type": "pyout",
       "prompt_number": 21,
       "text": [
        "1.4142135623730951"
       ]
      },
      {
       "output_type": "pyout",
       "prompt_number": 21,
       "text": [
        "1.4142135623730951"
       ]
      }
     ],
     "prompt_number": 21
    },
    {
     "cell_type": "plaintext",
     "source": [
      "sqrt works with float and int arguments. here's an example of composition(())"
     ]
    },
    {
     "cell_type": "code",
     "collapsed": false,
     "input": [
      "math.asin(math.sin(radians))"
     ],
     "language": "python",
     "outputs": [
      {
       "output_type": "pyout",
       "prompt_number": 22,
       "text": [
        "0.7853981633974482"
       ]
      },
      {
       "output_type": "pyout",
       "prompt_number": 22,
       "text": [
        "0.7853981633974482"
       ]
      }
     ],
     "prompt_number": 22
    },
    {
     "cell_type": "code",
     "collapsed": false,
     "input": [
      "radians"
     ],
     "language": "python",
     "outputs": [
      {
       "output_type": "pyout",
       "prompt_number": 23,
       "text": [
        "0.7853981633974483"
       ]
      },
      {
       "output_type": "pyout",
       "prompt_number": 23,
       "text": [
        "0.7853981633974483"
       ]
      }
     ],
     "prompt_number": 23
    },
    {
     "cell_type": "plaintext",
     "source": [
      "custom functions:"
     ]
    },
    {
     "cell_type": "code",
     "collapsed": false,
     "input": [
      "def print_lyrics():",
      "    print \"I'm a lumberjack and I'm ok\"",
      "    print \"I sleep all night and I work all day\"",
      "    ",
      "print_lyrics()"
     ],
     "language": "python",
     "outputs": [
      {
       "output_type": "stream",
       "stream": "stdout",
       "text": [
        "I'm a lumberjack and I'm ok",
        "I sleep all night and I work all day"
       ]
      },
      {
       "output_type": "stream",
       "stream": "stdout",
       "text": [
        "I'm a lumberjack and I'm ok",
        "I sleep all night and I work all day"
       ]
      }
     ],
     "prompt_number": 24
    },
    {
     "cell_type": "code",
     "collapsed": false,
     "input": [
      "print type(print_lyrics)"
     ],
     "language": "python",
     "outputs": [
      {
       "output_type": "stream",
       "stream": "stdout",
       "text": [
        "<type 'function'>"
       ]
      },
      {
       "output_type": "stream",
       "stream": "stdout",
       "text": [
        "<type 'function'>"
       ]
      }
     ],
     "prompt_number": 27
    },
    {
     "cell_type": "code",
     "collapsed": false,
     "input": [
      "print type(print)"
     ],
     "language": "python",
     "outputs": [
      {
       "ename": "SyntaxError",
       "evalue": "invalid syntax (<ipython-input-28-65ec60880bfc>, line 1)",
       "output_type": "pyerr",
       "traceback": [
        "\u001b[1;36m  File \u001b[1;32m\"<ipython-input-28-65ec60880bfc>\"\u001b[1;36m, line \u001b[1;32m1\u001b[0m\n\u001b[1;33m    print type(print)\u001b[0m\n\u001b[1;37m                   ^\u001b[0m\n\u001b[1;31mSyntaxError\u001b[0m\u001b[1;31m:\u001b[0m invalid syntax\n"
       ]
      },
      {
       "ename": "SyntaxError",
       "evalue": "invalid syntax (<ipython-input-28-65ec60880bfc>, line 1)",
       "output_type": "pyerr",
       "traceback": [
        "\u001b[1;36m  File \u001b[1;32m\"<ipython-input-28-65ec60880bfc>\"\u001b[1;36m, line \u001b[1;32m1\u001b[0m\n\u001b[1;33m    print type(print)\u001b[0m\n\u001b[1;37m                   ^\u001b[0m\n\u001b[1;31mSyntaxError\u001b[0m\u001b[1;31m:\u001b[0m invalid syntax\n"
       ]
      }
     ],
     "prompt_number": 28
    },
    {
     "cell_type": "plaintext",
     "source": [
      "Apparently given functions are not a type that I can play with like custom functions.",
      "",
      "3.1 Functions that are called before they are defined yeild the following error."
     ]
    },
    {
     "cell_type": "code",
     "collapsed": false,
     "input": [
      "repeat_lyrics2()",
      "def repeat_lyrics2():",
      "    print_lyrics()",
      "    print_lyrics()",
      "    "
     ],
     "language": "python",
     "outputs": [
      {
       "ename": "NameError",
       "evalue": "name 'repeat_lyrics2' is not defined",
       "output_type": "pyerr",
       "traceback": [
        "\u001b[1;31m---------------------------------------------------------------------------\u001b[0m\n\u001b[1;31mNameError\u001b[0m                                 Traceback (most recent call last)",
        "\u001b[1;32mc:\\Documents and Settings\\Ben Knudson\\PHYS200\\<ipython-input-38-b370f76a4541>\u001b[0m in \u001b[0;36m<module>\u001b[1;34m()\u001b[0m\n\u001b[1;32m----> 1\u001b[1;33m \u001b[0mrepeat_lyrics2\u001b[0m\u001b[1;33m(\u001b[0m\u001b[1;33m)\u001b[0m\u001b[1;33m\u001b[0m\u001b[0m\n\u001b[0m\u001b[0;32m      2\u001b[0m \u001b[1;32mdef\u001b[0m \u001b[0mrepeat_lyrics2\u001b[0m\u001b[1;33m(\u001b[0m\u001b[1;33m)\u001b[0m\u001b[1;33m:\u001b[0m\u001b[1;33m\u001b[0m\u001b[0m\n\u001b[0;32m      3\u001b[0m     \u001b[0mprint_lyrics\u001b[0m\u001b[1;33m(\u001b[0m\u001b[1;33m)\u001b[0m\u001b[1;33m\u001b[0m\u001b[0m\n\u001b[0;32m      4\u001b[0m     \u001b[0mprint_lyrics\u001b[0m\u001b[1;33m(\u001b[0m\u001b[1;33m)\u001b[0m\u001b[1;33m\u001b[0m\u001b[0m\n\u001b[0;32m      5\u001b[0m \u001b[1;33m\u001b[0m\u001b[0m\n",
        "\u001b[1;31mNameError\u001b[0m: name 'repeat_lyrics2' is not defined"
       ]
      },
      {
       "ename": "NameError",
       "evalue": "name 'repeat_lyrics2' is not defined",
       "output_type": "pyerr",
       "traceback": [
        "\u001b[1;31m---------------------------------------------------------------------------\u001b[0m\n\u001b[1;31mNameError\u001b[0m                                 Traceback (most recent call last)",
        "\u001b[1;32mc:\\Documents and Settings\\Ben Knudson\\PHYS200\\<ipython-input-38-b370f76a4541>\u001b[0m in \u001b[0;36m<module>\u001b[1;34m()\u001b[0m\n\u001b[1;32m----> 1\u001b[1;33m \u001b[0mrepeat_lyrics2\u001b[0m\u001b[1;33m(\u001b[0m\u001b[1;33m)\u001b[0m\u001b[1;33m\u001b[0m\u001b[0m\n\u001b[0m\u001b[0;32m      2\u001b[0m \u001b[1;32mdef\u001b[0m \u001b[0mrepeat_lyrics2\u001b[0m\u001b[1;33m(\u001b[0m\u001b[1;33m)\u001b[0m\u001b[1;33m:\u001b[0m\u001b[1;33m\u001b[0m\u001b[0m\n\u001b[0;32m      3\u001b[0m     \u001b[0mprint_lyrics\u001b[0m\u001b[1;33m(\u001b[0m\u001b[1;33m)\u001b[0m\u001b[1;33m\u001b[0m\u001b[0m\n\u001b[0;32m      4\u001b[0m     \u001b[0mprint_lyrics\u001b[0m\u001b[1;33m(\u001b[0m\u001b[1;33m)\u001b[0m\u001b[1;33m\u001b[0m\u001b[0m\n\u001b[0;32m      5\u001b[0m \u001b[1;33m\u001b[0m\u001b[0m\n",
        "\u001b[1;31mNameError\u001b[0m: name 'repeat_lyrics2' is not defined"
       ]
      }
     ],
     "prompt_number": 38
    },
    {
     "cell_type": "code",
     "collapsed": false,
     "input": [
      "def repeat_lyrics3():",
      "    print_lyrics3()",
      "    print_lyrics3()",
      "    ",
      "def print_lyrics3():",
      "    print \"I'm a lumberjack and I'm ok\"",
      "    print \"I sleep all night and I work all day\"",
      "    ",
      "repeat_lyrics3()"
     ],
     "language": "python",
     "outputs": [
      {
       "output_type": "stream",
       "stream": "stdout",
       "text": [
        "I'm a lumberjack and I'm ok",
        "I sleep all night and I work all day",
        "I'm a lumberjack and I'm ok",
        "I sleep all night and I work all day"
       ]
      },
      {
       "output_type": "stream",
       "stream": "stdout",
       "text": [
        "I'm a lumberjack and I'm ok",
        "I sleep all night and I work all day",
        "I'm a lumberjack and I'm ok",
        "I sleep all night and I work all day"
       ]
      }
     ],
     "prompt_number": 39
    },
    {
     "cell_type": "plaintext",
     "source": [
      "3.2 When we get the function definitions in the wrong order, it still works fine, as long as the function isn't called untill all the functions have been defined!"
     ]
    },
    {
     "cell_type": "plaintext",
     "source": [
      "3.3 Write a function called \"right_justify()\" that takes a string named 's' as a parameter and prints it so that the last letter of the string is in the 70th line. "
     ]
    },
    {
     "cell_type": "code",
     "collapsed": false,
     "input": [
      "def right_justify(s):",
      "    s=str(s)",
      "    print ' '*(70-len(s)), s",
      "    ",
      "right_justify(\"My name is Ben\")"
     ],
     "language": "python",
     "outputs": [
      {
       "output_type": "stream",
       "stream": "stdout",
       "text": [
        "                                                         My name is Ben"
       ]
      },
      {
       "output_type": "stream",
       "stream": "stdout",
       "text": [
        "                                                         My name is Ben"
       ]
      }
     ],
     "prompt_number": 42
    },
    {
     "cell_type": "code",
     "collapsed": false,
     "input": [
      "right_justify('Hello')"
     ],
     "language": "python",
     "outputs": [
      {
       "output_type": "stream",
       "stream": "stdout",
       "text": [
        "                                                                  Hello"
       ]
      },
      {
       "output_type": "stream",
       "stream": "stdout",
       "text": [
        "                                                                  Hello"
       ]
      }
     ],
     "prompt_number": 44
    },
    {
     "cell_type": "plaintext",
     "source": [
      "3.4 A function object is a value you can assign to a variable or pass as an argument. For",
      "example, do_twice is a function that takes a function object as an argument and calls it twice"
     ]
    },
    {
     "cell_type": "code",
     "collapsed": false,
     "input": [
      "def do_twice(f):",
      "    f()",
      "    f()",
      "    ",
      "def print_spam():",
      "    print 'spam'",
      "    ",
      "do_twice(print_spam)"
     ],
     "language": "python",
     "outputs": [
      {
       "output_type": "stream",
       "stream": "stdout",
       "text": [
        "spam",
        "spam"
       ]
      },
      {
       "output_type": "stream",
       "stream": "stdout",
       "text": [
        "spam",
        "spam"
       ]
      }
     ],
     "prompt_number": 47
    },
    {
     "cell_type": "code",
     "collapsed": false,
     "input": [
      "def do_twice(f,s):",
      "    f(s)",
      "    f(s)",
      "    ",
      "def print_twice(s):",
      "    print s",
      "    print s",
      "    ",
      "s='spam'",
      "do_twice(print_twice,s)",
      "print d"
     ],
     "language": "python",
     "outputs": [
      {
       "output_type": "stream",
       "stream": "stdout",
       "text": [
        "spam",
        "spam",
        "spam",
        "spam",
        ""
       ]
      },
      {
       "output_type": "stream",
       "stream": "stdout",
       "text": [
        "spam",
        "spam",
        "spam",
        "spam",
        ""
       ]
      }
     ],
     "prompt_number": 79
    },
    {
     "cell_type": "plaintext",
     "source": [
      "do_four doing print_twice four times."
     ]
    },
    {
     "cell_type": "code",
     "collapsed": false,
     "input": [
      "def do_four(f,s):",
      "    do_twice(f,s)",
      "    do_twice(f,s)",
      "    ",
      "s='superspam'",
      "do_four(print_twice,s)",
      "print"
     ],
     "language": "python",
     "outputs": [
      {
       "output_type": "stream",
       "stream": "stdout",
       "text": [
        "superspam",
        "superspam",
        "superspam",
        "superspam",
        "superspam",
        "superspam",
        "superspam",
        "superspam",
        ""
       ]
      },
      {
       "output_type": "stream",
       "stream": "stdout",
       "text": [
        "superspam",
        "superspam",
        "superspam",
        "superspam",
        "superspam",
        "superspam",
        "superspam",
        "superspam",
        ""
       ]
      }
     ],
     "prompt_number": 85
    },
    {
     "cell_type": "code",
     "collapsed": false,
     "input": [
      "def grid(x,y):",
      "    a=x/2",
      "    b=y/2",
      "    print '+','- '*a,'+',' -'*a,'+'",
      "    print '|','  '*a,'|','  '*a,'|'",
      "    print '|','  '*a,'|','  '*a,'|'",
      "    print '|','  '*a,'|','  '*a,'|'",
      "    print '|','  '*a,'|','  '*a,'|'",
      "    print '+','- '*4,'+',' -'*4,'+'",
      "    print '|','  '*a,'|','  '*a,'|'",
      "    print '|','  '*a,'|','  '*a,'|'",
      "    print '|','  '*a,'|','  '*a,'|'",
      "    print '|','  '*4,'|','  '*4,'|'",
      "    print '+','- '*4,'+',' -'*4,'+'",
      "    ",
      "grid(8,8)",
      "print"
     ],
     "language": "python",
     "outputs": [
      {
       "output_type": "stream",
       "stream": "stdout",
       "text": [
        "+ - - - -  +  - - - - +",
        "|          |          |",
        "|          |          |",
        "|          |          |",
        "|          |          |",
        "+ - - - -  +  - - - - +",
        "|          |          |",
        "|          |          |",
        "|          |          |",
        "|          |          |",
        "+ - - - -  +  - - - - +",
        ""
       ]
      },
      {
       "output_type": "stream",
       "stream": "stdout",
       "text": [
        "+ - - - -  +  - - - - +",
        "|          |          |",
        "|          |          |",
        "|          |          |",
        "|          |          |",
        "+ - - - -  +  - - - - +",
        "|          |          |",
        "|          |          |",
        "|          |          |",
        "|          |          |",
        "+ - - - -  +  - - - - +",
        ""
       ]
      }
     ],
     "prompt_number": 94
    },
    {
     "cell_type": "code",
     "collapsed": false,
     "input": [
      "def do_twice(f):",
      "    f()",
      "    f()",
      "",
      "def do_four(f):",
      "    do_twice(f)",
      "    do_twice(f)",
      "",
      "def print_beam():",
      "    print '+ - - - -',",
      "",
      "def print_post():",
      "    print '|        ',",
      "",
      "def print_beams():",
      "    do_four(print_beam)",
      "    print '+'",
      "",
      "def print_posts():",
      "    do_four(print_post)",
      "    print '|'",
      "",
      "def print_row():",
      "    print_beams()",
      "    do_four(print_posts)",
      "    do_four(print_posts)",
      "",
      "def print_grid():",
      "    do_four(print_row)",
      "    print_beams()",
      "",
      "print_grid()"
     ],
     "language": "python",
     "outputs": [
      {
       "output_type": "stream",
       "stream": "stdout",
       "text": [
        "+ - - - - + - - - - + - - - - + - - - - +",
        "|         |         |         |         |",
        "|         |         |         |         |",
        "|         |         |         |         |",
        "|         |         |         |         |",
        "|         |         |         |         |",
        "|         |         |         |         |",
        "|         |         |         |         |",
        "|         |         |         |         |",
        "+ - - - - + - - - - + - - - - + - - - - +",
        "|         |         |         |         |",
        "|         |         |         |         |",
        "|         |         |         |         |",
        "|         |         |         |         |",
        "|         |         |         |         |",
        "|         |         |         |         |",
        "|         |         |         |         |",
        "|         |         |         |         |",
        "+ - - - - + - - - - + - - - - + - - - - +",
        "|         |         |         |         |",
        "|         |         |         |         |",
        "|         |         |         |         |",
        "|         |         |         |         |",
        "|         |         |         |         |",
        "|         |         |         |         |",
        "|         |         |         |         |",
        "|         |         |         |         |",
        "+ - - - - + - - - - + - - - - + - - - - +",
        "|         |         |         |         |",
        "|         |         |         |         |",
        "|         |         |         |         |",
        "|         |         |         |         |",
        "|         |         |         |         |",
        "|         |         |         |         |",
        "|         |         |         |         |",
        "|         |         |         |         |",
        "+ - - - - + - - - - + - - - - + - - - - +"
       ]
      },
      {
       "output_type": "stream",
       "stream": "stdout",
       "text": [
        "+ - - - - + - - - - + - - - - + - - - - +",
        "|         |         |         |         |",
        "|         |         |         |         |",
        "|         |         |         |         |",
        "|         |         |         |         |",
        "|         |         |         |         |",
        "|         |         |         |         |",
        "|         |         |         |         |",
        "|         |         |         |         |",
        "+ - - - - + - - - - + - - - - + - - - - +",
        "|         |         |         |         |",
        "|         |         |         |         |",
        "|         |         |         |         |",
        "|         |         |         |         |",
        "|         |         |         |         |",
        "|         |         |         |         |",
        "|         |         |         |         |",
        "|         |         |         |         |",
        "+ - - - - + - - - - + - - - - + - - - - +",
        "|         |         |         |         |",
        "|         |         |         |         |",
        "|         |         |         |         |",
        "|         |         |         |         |",
        "|         |         |         |         |",
        "|         |         |         |         |",
        "|         |         |         |         |",
        "|         |         |         |         |",
        "+ - - - - + - - - - + - - - - + - - - - +",
        "|         |         |         |         |",
        "|         |         |         |         |",
        "|         |         |         |         |",
        "|         |         |         |         |",
        "|         |         |         |         |",
        "|         |         |         |         |",
        "|         |         |         |         |",
        "|         |         |         |         |",
        "+ - - - - + - - - - + - - - - + - - - - +"
       ]
      }
     ],
     "prompt_number": 98
    },
    {
     "cell_type": "plaintext",
     "source": [
      "for 3.5 part 2 above I modified downey's code in ThinkPython as a small shortcut. -Ben"
     ]
    }
   ]
  }
 ]
}