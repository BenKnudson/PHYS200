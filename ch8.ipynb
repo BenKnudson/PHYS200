{
 "metadata": {
  "name": "ch8"
 },
 "nbformat": 3,
 "worksheets": [
  {
   "cells": [
    {
     "cell_type": "heading",
     "level": 1,
     "source": [
      "Thinkpython Ch8 exercises. ",
      "1,2,4,5,6,9,10"
     ]
    },
    {
     "cell_type": "plaintext",
     "source": [
      "exercise 8.1, the string reversal"
     ]
    },
    {
     "cell_type": "code",
     "collapsed": true,
     "input": [
      "def reverse(word):",
      "    length=len(word)",
      "    index=1",
      "    while index<=length:",
      "        print word[length-index]",
      "        index=index+1"
     ],
     "language": "python",
     "outputs": [],
     "prompt_number": 9
    },
    {
     "cell_type": "code",
     "collapsed": false,
     "input": [
      "reverse('hello')"
     ],
     "language": "python",
     "outputs": [
      {
       "output_type": "stream",
       "stream": "stdout",
       "text": [
        "o",
        "l",
        "l",
        "e",
        "h"
       ]
      }
     ],
     "prompt_number": 10
    },
    {
     "cell_type": "plaintext",
     "source": [
      "Exercise 8.2 The ducklings"
     ]
    },
    {
     "cell_type": "code",
     "collapsed": false,
     "input": [
      "prefixes='JKLMNOPQ'",
      "suffix = 'ack'",
      "for letter in prefixes:",
      "    if letter =='Q':",
      "        print letter + 'u' + suffix",
      "    elif letter =='O':",
      "        print letter + 'u' + suffix",
      "    else:",
      "        print letter + suffix"
     ],
     "language": "python",
     "outputs": [
      {
       "output_type": "stream",
       "stream": "stdout",
       "text": [
        "Jack",
        "Kack",
        "Lack",
        "Mack",
        "Nack",
        "Ouack",
        "Pack",
        "Quack"
       ]
      }
     ],
     "prompt_number": 16
    },
    {
     "cell_type": "plaintext",
     "source": [
      "I tried to use the (if letter == 'Q' or 'O') to change the spelling, but that did not work. "
     ]
    },
    {
     "cell_type": "plaintext",
     "source": [
      "exercise 8.4"
     ]
    },
    {
     "cell_type": "code",
     "collapsed": true,
     "input": [
      "def finder(word,index,letter):",
      "    while index< len(word):",
      "        if word[index]==letter:",
      "            return index",
      "        index=index+1",
      "    return -2"
     ],
     "language": "python",
     "outputs": [],
     "prompt_number": 29
    },
    {
     "cell_type": "code",
     "collapsed": false,
     "input": [
      "finder('guacamole',0,'c')"
     ],
     "language": "python",
     "outputs": [
      {
       "output_type": "pyout",
       "prompt_number": 30,
       "text": [
        "3"
       ]
      }
     ],
     "prompt_number": 30
    },
    {
     "cell_type": "code",
     "collapsed": false,
     "input": [
      "finder('guacamole', 7,'l')"
     ],
     "language": "python",
     "outputs": [
      {
       "output_type": "pyout",
       "prompt_number": 13,
       "text": [
        "7"
       ]
      }
     ],
     "prompt_number": 13
    },
    {
     "cell_type": "code",
     "collapsed": false,
     "input": [
      "find('guacamole',4,'c')"
     ],
     "language": "python",
     "outputs": [
      {
       "output_type": "pyout",
       "prompt_number": 26,
       "text": [
        "-1"
       ]
      }
     ],
     "prompt_number": 26
    },
    {
     "cell_type": "plaintext",
     "source": [
      "exercise 8.5 the count function"
     ]
    },
    {
     "cell_type": "code",
     "collapsed": true,
     "input": [
      "def count(word,letter):",
      "    index=0",
      "    counter=0",
      "    for a in word:",
      "        if a==letter:",
      "            counter=counter+1",
      "    return counter"
     ],
     "language": "python",
     "outputs": [],
     "prompt_number": 2
    },
    {
     "cell_type": "code",
     "collapsed": false,
     "input": [
      "count('hello','o')"
     ],
     "language": "python",
     "outputs": [
      {
       "output_type": "pyout",
       "prompt_number": 32,
       "text": [
        "1"
       ]
      }
     ],
     "prompt_number": 32
    },
    {
     "cell_type": "code",
     "collapsed": false,
     "input": [
      "count('hello my name is ben', 'e')"
     ],
     "language": "python",
     "outputs": [
      {
       "output_type": "pyout",
       "prompt_number": 31,
       "text": [
        "3"
       ]
      }
     ],
     "prompt_number": 31
    },
    {
     "cell_type": "plaintext",
     "source": [
      "8.6 rewrite the code to use the function find from above"
     ]
    },
    {
     "cell_type": "code",
     "collapsed": false,
     "input": [
      "def count2(word,letter):",
      "    counter=0",
      "    index=0",
      "    i=0",
      "    while i!=-2:",
      "        i=finder(word,index,letter)",
      "        index=i+1",
      "        if i>0:",
      "            counter=counter+1",
      "    return counter"
     ],
     "language": "python",
     "outputs": [],
     "prompt_number": 44
    },
    {
     "cell_type": "code",
     "collapsed": false,
     "input": [
      "count2('hello','e')"
     ],
     "language": "python",
     "outputs": [
      {
       "output_type": "pyout",
       "prompt_number": 48,
       "text": [
        "1"
       ]
      }
     ],
     "prompt_number": 48
    },
    {
     "cell_type": "plaintext",
     "source": [
      "exercise 8.9, one line palindrome"
     ]
    },
    {
     "cell_type": "code",
     "collapsed": false,
     "input": [
      "def is_palindrome1(word):",
      "    return word[::1]==word[::-1]",
      "    ",
      "is_palindrome1('hello')"
     ],
     "language": "python",
     "outputs": [
      {
       "output_type": "pyout",
       "prompt_number": 3,
       "text": [
        "False"
       ]
      }
     ],
     "prompt_number": 3
    },
    {
     "cell_type": "code",
     "collapsed": false,
     "input": [
      "is_palindrome1('racecar')"
     ],
     "language": "python",
     "outputs": [
      {
       "output_type": "pyout",
       "prompt_number": 4,
       "text": [
        "True"
       ]
      }
     ],
     "prompt_number": 4
    },
    {
     "cell_type": "plaintext",
     "source": [
      "Exercise 8.10"
     ]
    },
    {
     "cell_type": "code",
     "collapsed": false,
     "input": [
      "word='racecar'",
      "word.lstrip('ra')"
     ],
     "language": "python",
     "outputs": [
      {
       "output_type": "pyout",
       "prompt_number": 10,
       "text": [
        "'cecar'"
       ]
      }
     ],
     "prompt_number": 10
    },
    {
     "cell_type": "code",
     "collapsed": false,
     "input": [
      "word.strip('ra')"
     ],
     "language": "python",
     "outputs": [
      {
       "output_type": "pyout",
       "prompt_number": 17,
       "text": [
        "'cec'"
       ]
      }
     ],
     "prompt_number": 17
    },
    {
     "cell_type": "code",
     "collapsed": false,
     "input": [
      "word.rstrip('ra')"
     ],
     "language": "python",
     "outputs": [
      {
       "output_type": "pyout",
       "prompt_number": 18,
       "text": [
        "'racec'"
       ]
      }
     ],
     "prompt_number": 18
    },
    {
     "cell_type": "code",
     "collapsed": false,
     "input": [
      "word.replace('ra','km')"
     ],
     "language": "python",
     "outputs": [
      {
       "output_type": "pyout",
       "prompt_number": 19,
       "text": [
        "'kmcecar'"
       ]
      }
     ],
     "prompt_number": 19
    },
    {
     "cell_type": "code",
     "collapsed": true,
     "input": [],
     "language": "python",
     "outputs": []
    }
   ]
  }
 ]
}