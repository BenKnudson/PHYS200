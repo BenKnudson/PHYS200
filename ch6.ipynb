{
 "metadata": {
  "name": "ch6"
 },
 "nbformat": 3,
 "worksheets": [
  {
   "cells": [
    {
     "cell_type": "heading",
     "level": 1,
     "source": [
      "Think Python ch6, "
     ]
    },
    {
     "cell_type": "heading",
     "level": 2,
     "source": [
      "The first of it anyways"
     ]
    },
    {
     "cell_type": "code",
     "collapsed": true,
     "input": [
      "import math",
      "def area(radius):",
      "    temp=math.pi*radius**2",
      "    return temp"
     ],
     "language": "python",
     "outputs": [],
     "prompt_number": 1
    },
    {
     "cell_type": "code",
     "collapsed": false,
     "input": [
      "area(1)"
     ],
     "language": "python",
     "outputs": [
      {
       "output_type": "pyout",
       "prompt_number": 6,
       "text": [
        "3.141592653589793"
       ]
      }
     ],
     "prompt_number": 6
    },
    {
     "cell_type": "plaintext",
     "source": [
      "exercise 6.1, a compare function using a return statement. check all flows of code reach return statements. "
     ]
    },
    {
     "cell_type": "code",
     "collapsed": false,
     "input": [
      "def compare(x,y):",
      "    if x==y:",
      "        return 0",
      "    elif x>y: ",
      "        return 1",
      "    else:",
      "        return -1",
      "compare(1,1)"
     ],
     "language": "python",
     "outputs": [
      {
       "output_type": "pyout",
       "prompt_number": 3,
       "text": [
        "0"
       ]
      }
     ],
     "prompt_number": 3
    },
    {
     "cell_type": "code",
     "collapsed": false,
     "input": [
      "compare(1,2)"
     ],
     "language": "python",
     "outputs": [
      {
       "output_type": "pyout",
       "prompt_number": 4,
       "text": [
        "-1"
       ]
      }
     ],
     "prompt_number": 4
    },
    {
     "cell_type": "code",
     "collapsed": false,
     "input": [
      "compare(1,-2)"
     ],
     "language": "python",
     "outputs": [
      {
       "output_type": "pyout",
       "prompt_number": 7,
       "text": [
        "1"
       ]
      }
     ],
     "prompt_number": 7
    },
    {
     "cell_type": "plaintext",
     "source": [
      "exercise 6.2"
     ]
    },
    {
     "cell_type": "code",
     "collapsed": true,
     "input": [
      "def hypotenuse(x,y):",
      "    return 0",
      "    "
     ],
     "language": "python",
     "outputs": [],
     "prompt_number": 1
    },
    {
     "cell_type": "code",
     "collapsed": false,
     "input": [
      "def hypotenuse(x,y):",
      "    xsquared=x*x",
      "    ysquared= y*y",
      "    print xsquared",
      "    print ysquared",
      "    return 0",
      "",
      "hypotenuse(3,4)"
     ],
     "language": "python",
     "outputs": [
      {
       "output_type": "stream",
       "stream": "stdout",
       "text": [
        "9",
        "16"
       ]
      },
      {
       "output_type": "pyout",
       "prompt_number": 4,
       "text": [
        "0"
       ]
      }
     ],
     "prompt_number": 4
    },
    {
     "cell_type": "code",
     "collapsed": false,
     "input": [
      "def hypotenuse(x,y):",
      "    xsquared=x*x",
      "    ysquared= y*y",
      "    hsquared=xsquared+ysquared",
      "    print hsquared",
      "    result=math.sqrt(hsquared)",
      "    return result",
      "",
      "hypotenuse(3,4)"
     ],
     "language": "python",
     "outputs": [
      {
       "output_type": "stream",
       "stream": "stdout",
       "text": [
        "25"
       ]
      },
      {
       "output_type": "pyout",
       "prompt_number": 5,
       "text": [
        "5.0"
       ]
      }
     ],
     "prompt_number": 5
    },
    {
     "cell_type": "code",
     "collapsed": false,
     "input": [
      "def hypotenuse(x,y):",
      "    return math.sqrt(x*x+y*y)",
      "",
      "hypotenuse(3,4)"
     ],
     "language": "python",
     "outputs": [
      {
       "output_type": "pyout",
       "prompt_number": 6,
       "text": [
        "5.0"
       ]
      }
     ],
     "prompt_number": 6
    },
    {
     "cell_type": "plaintext",
     "source": [
      "exercise 6.5"
     ]
    },
    {
     "cell_type": "code",
     "collapsed": false,
     "input": [
      "def ack(m,n):",
      "    \"\"\"The ackerman function of m and n\"\"\"",
      "    if m==0:",
      "        return n+1",
      "    elif m>0 and n==0:",
      "        return ack(m-1,1)",
      "    elif m>0 and n>0:",
      "        return ack(m-1,ack(m,n-1))",
      "    else:",
      "        print \"there is something wrong\"",
      "        return None",
      "    ",
      "ack(3,4)"
     ],
     "language": "python",
     "outputs": [
      {
       "output_type": "pyout",
       "prompt_number": 8,
       "text": [
        "125"
       ]
      }
     ],
     "prompt_number": 8
    },
    {
     "cell_type": "plaintext",
     "source": [
      "Larger values seem to crash my bash. Note: how can i terminate an infinite loop in pylab?"
     ]
    },
    {
     "cell_type": "plaintext",
     "source": [
      "exercise 6.5"
     ]
    },
    {
     "cell_type": "code",
     "collapsed": true,
     "input": [
      "def first(word):",
      "    return word[0]",
      "",
      "def last(word):",
      "    return word[-1]",
      "",
      "def middle(word):",
      "    return word[1:-1]"
     ],
     "language": "python",
     "outputs": [],
     "prompt_number": 1
    },
    {
     "cell_type": "code",
     "collapsed": false,
     "input": [
      "middle('hi')"
     ],
     "language": "python",
     "outputs": [
      {
       "output_type": "pyout",
       "prompt_number": 2,
       "text": [
        "''"
       ]
      }
     ],
     "prompt_number": 2
    },
    {
     "cell_type": "code",
     "collapsed": false,
     "input": [
      "first('hi')"
     ],
     "language": "python",
     "outputs": [
      {
       "output_type": "pyout",
       "prompt_number": 3,
       "text": [
        "'h'"
       ]
      }
     ],
     "prompt_number": 3
    },
    {
     "cell_type": "code",
     "collapsed": false,
     "input": [
      "middle('hello')"
     ],
     "language": "python",
     "outputs": [
      {
       "output_type": "pyout",
       "prompt_number": 9,
       "text": [
        "'ell'"
       ]
      }
     ],
     "prompt_number": 9
    },
    {
     "cell_type": "code",
     "collapsed": false,
     "input": [
      "first('')"
     ],
     "language": "python",
     "outputs": [
      {
       "ename": "IndexError",
       "evalue": "string index out of range",
       "output_type": "pyerr",
       "traceback": [
        "\u001b[1;31m---------------------------------------------------------------------------\u001b[0m\n\u001b[1;31mIndexError\u001b[0m                                Traceback (most recent call last)",
        "\u001b[1;32mc:\\Documents and Settings\\Ben Knudson\\PHYS200\\<ipython-input-8-1d16c2565ead>\u001b[0m in \u001b[0;36m<module>\u001b[1;34m()\u001b[0m\n\u001b[1;32m----> 1\u001b[1;33m \u001b[0mfirst\u001b[0m\u001b[1;33m(\u001b[0m\u001b[1;34m''\u001b[0m\u001b[1;33m)\u001b[0m\u001b[1;33m\u001b[0m\u001b[0m\n\u001b[0m",
        "\u001b[1;32mc:\\Documents and Settings\\Ben Knudson\\PHYS200\\<ipython-input-1-5e47a2f3e581>\u001b[0m in \u001b[0;36mfirst\u001b[1;34m(word)\u001b[0m\n\u001b[0;32m      1\u001b[0m \u001b[1;32mdef\u001b[0m \u001b[0mfirst\u001b[0m\u001b[1;33m(\u001b[0m\u001b[0mword\u001b[0m\u001b[1;33m)\u001b[0m\u001b[1;33m:\u001b[0m\u001b[1;33m\u001b[0m\u001b[0m\n\u001b[1;32m----> 2\u001b[1;33m     \u001b[1;32mreturn\u001b[0m \u001b[0mword\u001b[0m\u001b[1;33m[\u001b[0m\u001b[1;36m0\u001b[0m\u001b[1;33m]\u001b[0m\u001b[1;33m\u001b[0m\u001b[0m\n\u001b[0m\u001b[0;32m      3\u001b[0m \u001b[1;33m\u001b[0m\u001b[0m\n\u001b[0;32m      4\u001b[0m \u001b[1;32mdef\u001b[0m \u001b[0mlast\u001b[0m\u001b[1;33m(\u001b[0m\u001b[0mword\u001b[0m\u001b[1;33m)\u001b[0m\u001b[1;33m:\u001b[0m\u001b[1;33m\u001b[0m\u001b[0m\n\u001b[0;32m      5\u001b[0m     \u001b[1;32mreturn\u001b[0m \u001b[0mword\u001b[0m\u001b[1;33m[\u001b[0m\u001b[1;33m-\u001b[0m\u001b[1;36m1\u001b[0m\u001b[1;33m]\u001b[0m\u001b[1;33m\u001b[0m\u001b[0m\n",
        "\u001b[1;31mIndexError\u001b[0m: string index out of range"
       ]
      }
     ],
     "prompt_number": 8
    },
    {
     "cell_type": "code",
     "collapsed": false,
     "input": [
      "def is_palindrome(word):",
      "    n=len(word)",
      "    if n==1:",
      "        return True",
      "    elif n>=2:",
      "        if last(word)==first(word):",
      "            if is_palindrome(middle(word)):",
      "                return True",
      "            elif is_palindrome(middle(word))==None:",
      "                return True",
      "            else:",
      "                return False",
      "        else:",
      "            return False",
      "    else:",
      "        return False",
      "    ",
      "is_palindrome('bob')"
     ],
     "language": "python",
     "outputs": [
      {
       "output_type": "pyout",
       "prompt_number": 33,
       "text": [
        "True"
       ]
      }
     ],
     "prompt_number": 33
    },
    {
     "cell_type": "code",
     "collapsed": false,
     "input": [
      "is_palindrome('redivider')"
     ],
     "language": "python",
     "outputs": [
      {
       "output_type": "pyout",
       "prompt_number": 19,
       "text": [
        "True"
       ]
      }
     ],
     "prompt_number": 19
    },
    {
     "cell_type": "code",
     "collapsed": false,
     "input": [
      "is_palindrome('redriver')"
     ],
     "language": "python",
     "outputs": [
      {
       "output_type": "pyout",
       "prompt_number": 25,
       "text": [
        "False"
       ]
      }
     ],
     "prompt_number": 25
    },
    {
     "cell_type": "code",
     "collapsed": false,
     "input": [
      "is_palindrome('racecar')"
     ],
     "language": "python",
     "outputs": [
      {
       "output_type": "pyout",
       "prompt_number": 26,
       "text": [
        "True"
       ]
      }
     ],
     "prompt_number": 26
    },
    {
     "cell_type": "code",
     "collapsed": false,
     "input": [
      "is_palindrome('boob')"
     ],
     "language": "python",
     "outputs": [
      {
       "output_type": "pyout",
       "prompt_number": 24,
       "text": [
        "True"
       ]
      }
     ],
     "prompt_number": 24
    },
    {
     "cell_type": "code",
     "collapsed": false,
     "input": [
      "is_palindrome('book')"
     ],
     "language": "python",
     "outputs": [
      {
       "output_type": "pyout",
       "prompt_number": 30,
       "text": [
        "False"
       ]
      }
     ],
     "prompt_number": 30
    },
    {
     "cell_type": "code",
     "collapsed": false,
     "input": [
      "is_palindrome('')"
     ],
     "language": "python",
     "outputs": [
      {
       "output_type": "pyout",
       "prompt_number": 34,
       "text": [
        "False"
       ]
      }
     ],
     "prompt_number": 34
    },
    {
     "cell_type": "code",
     "collapsed": false,
     "input": [
      "is_palindrome('racecarracecar')"
     ],
     "language": "python",
     "outputs": [
      {
       "output_type": "pyout",
       "prompt_number": 29,
       "text": [
        "True"
       ]
      }
     ],
     "prompt_number": 29
    },
    {
     "cell_type": "code",
     "collapsed": true,
     "input": [],
     "language": "python",
     "outputs": []
    }
   ]
  }
 ]
}